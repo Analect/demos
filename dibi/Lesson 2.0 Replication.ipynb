{
 "metadata": {
  "name": ""
 },
 "nbformat": 3,
 "nbformat_minor": 0,
 "worksheets": [
  {
   "cells": [
    {
     "cell_type": "markdown",
     "metadata": {},
     "source": [
      "# Durability, Availability, and Replica Sets\n",
      "\n",
      "Like any other data storage system, unless you\u2019re making sure to put copies of your data into places that fail separately from one another, your data isn\u2019t really durable or available in the presence of failures (power outages, network partitions, hardware failures, etc.) For this reason, MongoDB has a built-in replication model based on coordination among a number of mongod processes, called a Replica Set.\n",
      "\n",
      "# Replica Set Basics\n",
      "\n",
      "A replica set is a group of mongod processes that allow you to have your data duplicated over several hosts, ideally distributed among several data centers. Replica set members all know about each other, and each member communicates with every other member occasionally, so it\u2019s important to ensure network connectivity between all the hosts where your replica set members will run.\n",
      "\n",
      "In a replica set, at any moment there is at most one writable set member, called the primary node, or just the primary. By default, all other members of a replica set request descriptions of the data changes that happen on the primary, and apply those changes to their own copies of the primary\u2019s data and indexes; these members that store data but aren\u2019t writable at a particular point in time are called secondary nodes, or just secondaries. Secondaries constantly request new data changes, but it\u2019s important to know that replication in MongoDB is asynchronous and in no way a distributed transaction.\n",
      "\n",
      "# Automatic Failover and Primary Elections\n",
      "\n",
      "Whenever a replica set\u2019s primary becomes unavailable (e.g., goes offline), the remainder of the set may try to elect a new primary node. In order for a subset of a replica set to perform an election, the subset must consist of a strict majority of the set\u2019s normal composition. For example, if the replica set normally has 4 members, the set will be able to elect a primary whenever 3 or 4 members are online and able to communicate with each other; if only 2 members can communicate, neither of those members will be a primary.\n",
      "\n",
      "# Setup\n",
      "Here is a simple way to set up a replica set with 3 members all running on one host:\n",
      "\n",
      "     mkdir /data/rs1\n",
      "     mkdir /data/rs2\n",
      "     mkdir /data/rs3\n",
      "     mongod --replSet myReplSet --logpath \"1.log\" --dbpath /data/rs1 --port 27017 --fork --oplogSize 200\n",
      "     mongod --replSet myReplSet --logpath \"2.log\" --dbpath /data/rs2 --port 27018 --fork --oplogSize 200\n",
      "     mongod --replSet myReplSet --logpath \"3.log\" --dbpath /data/rs3 --port 27019 --fork --oplogSize 200\n",
      "\n",
      "    > ./bin/mongo\n",
      "     \n",
      "     config = { \"_id\": \"myReplSet\", \"members\" : [\n",
      "          { \"_id\" : 0, \"host\" : \"localhost:27017\" },\n",
      "          { \"_id\" : 1, \"host\" : \"localhost:27018\" },\n",
      "          { \"_id\" : 2, \"host\" : \"localhost:27019\" } ]\n",
      "     }\n",
      "     rs.initiate(config)\n",
      "     rs.status()\n",
      "\n",
      "## Reference\n",
      "\n",
      "* http://docs.mongodb.org/manual/reference/replica-configuration/ \n",
      "* http://docs.mongodb.org/manual/reference/method/rs.initiate/ \n",
      "* http://docs.mongodb.org/manual/reference/command/replSetInitiate/\n",
      "\n",
      "# Exercises\n",
      "\n",
      "1. Keeping in mind that automatic failover can happen only when a majority of a replica set is online, what is the minimum number of members a replica set should have?\n",
      "1. Connect to the primary node `rs.status()` from any node will tell you which node is `PRIMARY`\n",
      "1. Stepdown the primary - `rs.stepDown()` - see which node becomes the new primary and connect to it.\n",
      "1. Suppose you have two data centers, DC-A, and DC-B, and want to deploy a replica set with 5 members. <br>\n",
      "   How many ways are there to distribute 5 members across 2 data centers?"
     ]
    },
    {
     "cell_type": "code",
     "collapsed": false,
     "input": [],
     "language": "python",
     "metadata": {},
     "outputs": []
    }
   ],
   "metadata": {}
  }
 ]
}