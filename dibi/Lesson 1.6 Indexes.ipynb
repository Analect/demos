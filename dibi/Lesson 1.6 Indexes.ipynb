{
 "metadata": {
  "name": ""
 },
 "nbformat": 3,
 "nbformat_minor": 0,
 "worksheets": [
  {
   "cells": [
    {
     "cell_type": "markdown",
     "metadata": {},
     "source": [
      "# Indexes\n",
      "\n",
      "MongoDB supports single, compound and multikey indexes. \n",
      "You can create indexes using the shell and get `explain()` output for your queries."
     ]
    },
    {
     "cell_type": "code",
     "collapsed": false,
     "input": [
      "%%mongo\n",
      "db.scores.find({\"score\": {\"$lte\": 75}}).explain()"
     ],
     "language": "python",
     "metadata": {},
     "outputs": [
      {
       "output_type": "stream",
       "stream": "stdout",
       "text": [
        "{\n",
        "\t\"cursor\" : \"BasicCursor\",\n",
        "\t\"isMultiKey\" : false,\n",
        "\t\"n\" : 1524,\n",
        "\t\"nscannedObjects\" : 3000,\n",
        "\t\"nscanned\" : 3000,\n",
        "\t\"nscannedObjectsAllPlans\" : 3000,\n",
        "\t\"nscannedAllPlans\" : 3000,\n",
        "\t\"scanAndOrder\" : false,\n",
        "\t\"indexOnly\" : false,\n",
        "\t\"nYields\" : 0,\n",
        "\t\"nChunkSkips\" : 0,\n",
        "\t\"millis\" : 3,\n",
        "\t\"indexBounds\" : {\n",
        "\t\t\n",
        "\t},\n",
        "\t\"server\" : \"precise64:27017\"\n",
        "}\n",
        "\n"
       ]
      }
     ],
     "prompt_number": 1
    },
    {
     "cell_type": "markdown",
     "metadata": {},
     "source": [
      "The explain output above says that the server had to scan all\n",
      "3000 documents in the collection to find the 1524 that matched\n",
      "the query. Lets add an index to speed things up."
     ]
    },
    {
     "cell_type": "code",
     "collapsed": false,
     "input": [
      "%%mongo\n",
      "db.scores.ensureIndex({ \"score\": 1 })"
     ],
     "language": "python",
     "metadata": {},
     "outputs": [
      {
       "output_type": "stream",
       "stream": "stdout",
       "text": [
        "\n"
       ]
      }
     ],
     "prompt_number": 2
    },
    {
     "cell_type": "markdown",
     "metadata": {},
     "source": [
      "With the index added the server only has to scan the 1524 documents that actually match the query."
     ]
    },
    {
     "cell_type": "code",
     "collapsed": false,
     "input": [
      "%%mongo\n",
      "db.scores.find({\"score\": {\"$lte\": 75}}).explain()"
     ],
     "language": "python",
     "metadata": {},
     "outputs": [
      {
       "output_type": "stream",
       "stream": "stdout",
       "text": [
        "{\n",
        "\t\"cursor\" : \"BtreeCursor score_1\",\n",
        "\t\"isMultiKey\" : false,\n",
        "\t\"n\" : 1524,\n",
        "\t\"nscannedObjects\" : 1524,\n",
        "\t\"nscanned\" : 1524,\n",
        "\t\"nscannedObjectsAllPlans\" : 1524,\n",
        "\t\"nscannedAllPlans\" : 1524,\n",
        "\t\"scanAndOrder\" : false,\n",
        "\t\"indexOnly\" : false,\n",
        "\t\"nYields\" : 0,\n",
        "\t\"nChunkSkips\" : 0,\n",
        "\t\"millis\" : 2,\n",
        "\t\"indexBounds\" : {\n",
        "\t\t\"score\" : [\n",
        "\t\t\t[\n",
        "\t\t\t\t-1.7976931348623157e+308,\n",
        "\t\t\t\t75\n",
        "\t\t\t]\n",
        "\t\t]\n",
        "\t},\n",
        "\t\"server\" : \"precise64:27017\"\n",
        "}\n",
        "\n"
       ]
      }
     ],
     "prompt_number": 3
    },
    {
     "cell_type": "markdown",
     "metadata": {},
     "source": [
      "You can also create compound key indexes from the shell."
     ]
    },
    {
     "cell_type": "code",
     "collapsed": false,
     "input": [
      "%%mongo\n",
      "db.scores.ensureIndex({\"score\": 1, \"name\": -1})"
     ],
     "language": "python",
     "metadata": {},
     "outputs": [
      {
       "output_type": "stream",
       "stream": "stdout",
       "text": [
        "\n"
       ]
      }
     ],
     "prompt_number": 4
    },
    {
     "cell_type": "markdown",
     "metadata": {},
     "source": [
      "List all indexes in a collection:"
     ]
    },
    {
     "cell_type": "code",
     "collapsed": false,
     "input": [
      "%%mongo\n",
      "db.scores.getIndexes()"
     ],
     "language": "python",
     "metadata": {},
     "outputs": [
      {
       "output_type": "stream",
       "stream": "stdout",
       "text": [
        "[\n",
        "\t{\n",
        "\t\t\"v\" : 1,\n",
        "\t\t\"key\" : {\n",
        "\t\t\t\"_id\" : 1\n",
        "\t\t},\n",
        "\t\t\"ns\" : \"training.scores\",\n",
        "\t\t\"name\" : \"_id_\"\n",
        "\t},\n",
        "\t{\n",
        "\t\t\"v\" : 1,\n",
        "\t\t\"key\" : {\n",
        "\t\t\t\"score\" : 1\n",
        "\t\t},\n",
        "\t\t\"ns\" : \"training.scores\",\n",
        "\t\t\"name\" : \"score_1\"\n",
        "\t},\n",
        "\t{\n",
        "\t\t\"v\" : 1,\n",
        "\t\t\"key\" : {\n",
        "\t\t\t\"score\" : 1,\n",
        "\t\t\t\"name\" : -1\n",
        "\t\t},\n",
        "\t\t\"ns\" : \"training.scores\",\n",
        "\t\t\"name\" : \"score_1_name_-1\"\n",
        "\t}\n",
        "]\n",
        "\n"
       ]
      }
     ],
     "prompt_number": 5
    },
    {
     "cell_type": "markdown",
     "metadata": {},
     "source": [
      "See: http://docs.mongodb.org/manual/core/indexes/\n",
      "\n",
      "# Exercises\n",
      "\n",
      "1. Create an index on the 'name' field. Do a regular expression query on that field, verifying it uses an index.\n",
      "2. Remove the `score_1` index - does finding by score from `[3]` still use an index?"
     ]
    }
   ],
   "metadata": {}
  }
 ]
}