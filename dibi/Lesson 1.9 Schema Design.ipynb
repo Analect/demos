{
 "metadata": {
  "name": ""
 },
 "nbformat": 3,
 "nbformat_minor": 0,
 "worksheets": [
  {
   "cells": [
    {
     "cell_type": "markdown",
     "metadata": {},
     "source": [
      "# Schema Design\n",
      "\n",
      "In MongoDB, the basic rubric for schema design is store your data the way your application wants to see it. Some things to keep in mind\n",
      "When designing MongoDB documents, there are several things to consider:\n",
      "\n",
      "1. Whether to embed data in subdocuments or to refer to separate documents by key fields. Usually, one embeds data that is seldom changed (either truly immutable or only rarely mutated), and data that is not interesting enough to be represented as a document on its own (e.g., tags or labels tend to be represented as strings rather than normalized into their own documents).\n",
      "\n",
      "2. Whether to store embedded data positionally (with arrays) or by named fields (with nested documents). This is often a matter of taste, but sometimes relates to what can be queried/indexed efficiently (i.e., whether you need to be able to use a multi-key index).\n",
      "\n",
      "3. Whether to put possibly-related data together into fewer, larger documents or to split them into more numerous but smaller documents (possibly across separate collections). In general, it\u2019s best to design your documents to fit what the application needs; data you store but don\u2019t look at in documents will just cost you working space.\n",
      "\n",
      "4. For some problems, what types to use for various fields, if there\u2019s some play. For example, some applications use integers or strings for `_id`, say, for compatibility with other systems.\n",
      "\n",
      "5. When you have immutable (or seldom mutated) fields, whether to denormalize values over docu- ments. If business requirements permit some data to be immutable, then you can freely duplicate data around in any document to reduce round-trips to your servers. (For instance, in a product review system, there might be a Users collection with canonical username information. If user- name is permitted to be immutable, then you can embed it in review documents without concern about update inconsistencies.)\n",
      "\n",
      "\n",
      "# Exercises\n",
      "\n",
      "In this group exercise, we\u2019re going to take what we\u2019ve learned about MongoDB and try to come up with a basic but reasonable data model for an e-commerce site. For users of RDBMSs, the most challenging part of the exercise will be figuring out how to construct a data model when joins aren\u2019t allowed. We\u2019re going to attempt to model for the following entities and features:\n",
      "\n",
      "1. Products. The core of an e-commerce site, products vary quite a bit. In addition to the standard production attributes, we\u2019ll want to allow for variations of product type, along with custom attributes.\n",
      "1. Product pricing. Current prices as well a price histories.\n",
      "1. Product categories. Every e-commerce site includes a category hierarchy. We need to allow for that hierarchy, and we also must persist the many-to-many relationship between products and categories.\n",
      "1. Product reviews. Every products has zero or more reviews, and each review can receive votes and comments."
     ]
    }
   ],
   "metadata": {}
  }
 ]
}