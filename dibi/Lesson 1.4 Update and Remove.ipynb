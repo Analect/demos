{
 "metadata": {
  "name": ""
 },
 "nbformat": 3,
 "nbformat_minor": 0,
 "worksheets": [
  {
   "cells": [
    {
     "cell_type": "markdown",
     "metadata": {},
     "source": [
      "# Updates\n",
      "\n",
      "With MongoDB you can update documents in a number of different ways. We'll start this lesson by inserting a simple example document."
     ]
    },
    {
     "cell_type": "code",
     "collapsed": false,
     "input": [
      "%%mongo\n",
      "db.things.insert({\"_id\": 123, \"foo\": \"bar\"})\n",
      "db.things.findOne({\"_id\": 123})              "
     ],
     "language": "python",
     "metadata": {},
     "outputs": [
      {
       "output_type": "stream",
       "stream": "stdout",
       "text": [
        "{ \"_id\" : 123, \"foo\" : \"bar\" }\n",
        "\n"
       ]
      }
     ],
     "prompt_number": 1
    },
    {
     "cell_type": "markdown",
     "metadata": {},
     "source": [
      "Now we can use the update method to modify the document. This operation\n",
      "finds the document we just inserted by `_id` and replaces it with a new\n",
      "document."
     ]
    },
    {
     "cell_type": "code",
     "collapsed": false,
     "input": [
      "%%mongo\n",
      "db.things.update({\"_id\": 123}, {\"hello\": \"world\"})\n",
      "db.things.findOne({\"_id\": 123})"
     ],
     "language": "python",
     "metadata": {},
     "outputs": [
      {
       "output_type": "stream",
       "stream": "stdout",
       "text": [
        "{ \"_id\" : 123, \"hello\" : \"world\" }\n",
        "\n"
       ]
      }
     ],
     "prompt_number": 2
    },
    {
     "cell_type": "markdown",
     "metadata": {},
     "source": [
      "If instead we want to modify specific fields of the document we can use\n",
      "MongoDB's update operators. These include `$set`, `$inc`, `$push`, `$pull`\n",
      "and many more.\n",
      "\n",
      "Here's an example using `$set` to change the value of the 'hello' field\n",
      "in the same document."
     ]
    },
    {
     "cell_type": "code",
     "collapsed": false,
     "input": [
      "%%mongo\n",
      "db.things.update({\"_id\": 123}, {\"$set\": {\"hello\": \"DIBI\"}})\n",
      "db.things.findOne({\"_id\": 123})"
     ],
     "language": "python",
     "metadata": {},
     "outputs": [
      {
       "output_type": "stream",
       "stream": "stdout",
       "text": [
        "{ \"_id\" : 123, \"hello\" : \"DIBI\" }\n",
        "\n"
       ]
      }
     ],
     "prompt_number": 3
    },
    {
     "cell_type": "markdown",
     "metadata": {},
     "source": [
      "In the previous examples the server has handled modifying the document for\n",
      "us. We could also retrieve the document using findOne(), modify it client\n",
      "side and save it back again using the save() method."
     ]
    },
    {
     "cell_type": "code",
     "collapsed": false,
     "input": [
      "%%mongo\n",
      "doc = db.things.findOne({\"_id\": 123})\n",
      "doc['ts'] = new Date()\n",
      "db.things.save(doc)\n",
      "db.things.findOne({\"_id\": 123})"
     ],
     "language": "python",
     "metadata": {},
     "outputs": [
      {
       "output_type": "stream",
       "stream": "stdout",
       "text": [
        "{ \"_id\" : 123, \"hello\" : \"DIBI\" }\n",
        "ISODate(\"2013-10-02T14:01:48.149Z\")\n",
        "{\n",
        "\t\"_id\" : 123,\n",
        "\t\"hello\" : \"DIBI\",\n",
        "\t\"ts\" : ISODate(\"2013-10-02T14:01:48.149Z\")\n",
        "}\n",
        "\n"
       ]
      }
     ],
     "prompt_number": 4
    },
    {
     "cell_type": "code",
     "collapsed": false,
     "input": [
      "%%mongo\n",
      "db.things.save({\"name\": \"Ross\"})\n",
      "db.things.find()"
     ],
     "language": "python",
     "metadata": {},
     "outputs": [
      {
       "output_type": "stream",
       "stream": "stdout",
       "text": [
        "{ \"_id\" : 123, \"hello\" : \"DIBI\", \"ts\" : ISODate(\"2013-10-02T14:01:48.149Z\") }\n",
        "{ \"_id\" : ObjectId(\"524c274c16809e13d3c92fcb\"), \"name\" : \"Ross\" }\n",
        "\n"
       ]
      }
     ],
     "prompt_number": 5
    },
    {
     "cell_type": "markdown",
     "metadata": {},
     "source": [
      "What does `save()` do?  Try it in the shell without the brackets:"
     ]
    },
    {
     "cell_type": "code",
     "collapsed": false,
     "input": [
      "%%mongo\n",
      "db.things.save"
     ],
     "language": "python",
     "metadata": {},
     "outputs": [
      {
       "output_type": "stream",
       "stream": "stdout",
       "text": [
        "function ( obj ){\n",
        "if ( obj == null || typeof( obj ) == \"undefined\" )\n",
        "throw \"can't save a null\";\n",
        "\n",
        "if ( typeof( obj ) == \"number\" || typeof( obj) == \"string\" )\n",
        "throw \"can't save a number or string\"\n",
        "\n",
        "if ( typeof( obj._id ) == \"undefined\" ){\n",
        "obj._id = new ObjectId();\n",
        "return this.insert( obj );\n",
        "}\n",
        "else {\n",
        "return this.update( { _id : obj._id } , obj , true );\n",
        "}\n",
        "}\n",
        "\n"
       ]
      }
     ],
     "prompt_number": 6
    },
    {
     "cell_type": "markdown",
     "metadata": {},
     "source": [
      "In this next example we use the `$set` operator to add an interests\n",
      "field to a document. The update fails because no document matched\n",
      "the query for the update."
     ]
    },
    {
     "cell_type": "code",
     "collapsed": false,
     "input": [
      "%%mongo\n",
      "db.things.update({\"name\": \"Rozza\"}, {\"$set\": {\"interests\": []}})\n",
      "db.things.find({\"name\": \"Rozza\"}).count()"
     ],
     "language": "python",
     "metadata": {},
     "outputs": [
      {
       "output_type": "stream",
       "stream": "stdout",
       "text": [
        "0\n",
        "\n"
       ]
      }
     ],
     "prompt_number": 7
    },
    {
     "cell_type": "markdown",
     "metadata": {},
     "source": [
      "Using the `upsert` option tells MongoDB to insert a new document if a document matching\n",
      "the query does not exist."
     ]
    },
    {
     "cell_type": "code",
     "collapsed": false,
     "input": [
      "%%mongo\n",
      "db.things.update({\"name\": \"Rozza\"}, \n",
      "                 {\"$set\": {\"interests\": []}}, \n",
      "                 true)\n",
      "db.things.find_one({\"name\": \"Rozza\"})"
     ],
     "language": "python",
     "metadata": {},
     "outputs": [
      {
       "output_type": "stream",
       "stream": "stdout",
       "text": [
        "Wed Oct  2 14:01:48.472 JavaScript execution failed: TypeError: Property 'find_one' of object training.things is not a function\n",
        "\n"
       ]
      }
     ],
     "prompt_number": 8
    },
    {
     "cell_type": "markdown",
     "metadata": {},
     "source": [
      "Now that we've upserted that new document lets make a few modifications..."
     ]
    },
    {
     "cell_type": "code",
     "collapsed": false,
     "input": [
      "%%mongo\n",
      "db.things.update({\"name\": \"Rozza\"}, \n",
      "                 {\"$push\": {\"interests\": \"programming\"}})\n",
      "db.things.findOne({\"name\": \"Rozza\"})"
     ],
     "language": "python",
     "metadata": {},
     "outputs": [
      {
       "output_type": "stream",
       "stream": "stdout",
       "text": [
        "{\n",
        "\t\"_id\" : ObjectId(\"524c274cef7c6c10f07d11c5\"),\n",
        "\t\"interests\" : [\n",
        "\t\t\"programming\"\n",
        "\t],\n",
        "\t\"name\" : \"Rozza\"\n",
        "}\n",
        "\n"
       ]
      }
     ],
     "prompt_number": 9
    },
    {
     "cell_type": "code",
     "collapsed": false,
     "input": [
      "%%mongo\n",
      "db.things.update({\"name\": \"Rozza\"}, \n",
      "                 {\"$pull\": {\"interests\": \"programming\"}})\n",
      "db.things.findOne({\"name\": \"Rozza\"})"
     ],
     "language": "python",
     "metadata": {},
     "outputs": [
      {
       "output_type": "stream",
       "stream": "stdout",
       "text": [
        "{\n",
        "\t\"_id\" : ObjectId(\"524c274cef7c6c10f07d11c5\"),\n",
        "\t\"interests\" : [ ],\n",
        "\t\"name\" : \"Rozza\"\n",
        "}\n",
        "\n"
       ]
      }
     ],
     "prompt_number": 10
    },
    {
     "cell_type": "code",
     "collapsed": false,
     "input": [
      "%%mongo\n",
      "db.things.update({}, {\"$set\": {\"city\": \"Newcastle\"}})\n",
      "db.things.find()"
     ],
     "language": "python",
     "metadata": {},
     "outputs": [
      {
       "output_type": "stream",
       "stream": "stdout",
       "text": [
        "{ \"_id\" : ObjectId(\"524c274c16809e13d3c92fcb\"), \"name\" : \"Ross\" }\n",
        "{ \"_id\" : ObjectId(\"524c274cef7c6c10f07d11c5\"), \"interests\" : [ ], \"name\" : \"Rozza\" }\n",
        "{ \"_id\" : 123, \"city\" : \"Newcastle\", \"hello\" : \"DIBI\", \"ts\" : ISODate(\"2013-10-02T14:01:48.149Z\") }\n",
        "\n"
       ]
      }
     ],
     "prompt_number": 11
    },
    {
     "cell_type": "markdown",
     "metadata": {},
     "source": [
      "Notice in that last example only one document had the 'city' field\n",
      "set. By default MongoDB only modifies the first document that\n",
      "matches the query. If you want to modify all documents that match\n",
      "the query add multi = true.  \n",
      "\n",
      "**Hint:** You can see what arguments `update`\n",
      "takes by leaving off the brackets eg: `db.things.update`"
     ]
    },
    {
     "cell_type": "code",
     "collapsed": false,
     "input": [
      "%%mongo\n",
      "db.things.update({}, {\"$set\": {\"city\": \"Gateshead\"}}, false, true)\n",
      "db.things.find()"
     ],
     "language": "python",
     "metadata": {},
     "outputs": [
      {
       "output_type": "stream",
       "stream": "stdout",
       "text": [
        "{ \"_id\" : ObjectId(\"524c274cef7c6c10f07d11c5\"), \"city\" : \"Gateshead\", \"interests\" : [ ], \"name\" : \"Rozza\" }\n",
        "{ \"_id\" : 123, \"city\" : \"Gateshead\", \"hello\" : \"DIBI\", \"ts\" : ISODate(\"2013-10-02T14:01:48.149Z\") }\n",
        "{ \"_id\" : ObjectId(\"524c274c16809e13d3c92fcb\"), \"city\" : \"Gateshead\", \"name\" : \"Ross\" }\n",
        "\n"
       ]
      }
     ],
     "prompt_number": 12
    },
    {
     "cell_type": "markdown",
     "metadata": {},
     "source": [
      "# Removing data\n",
      "\n",
      "Removing documents, collections, and databases is easy in\n",
      "PyMongo. This first example removes specific documents from\n",
      "the collection. Please note that there is no multi=True\n",
      "option for remove. MongoDB will remove any documents that\n",
      "match the query."
     ]
    },
    {
     "cell_type": "code",
     "collapsed": false,
     "input": [
      "%%mongo\n",
      "db.things.remove({\"name\": \"Rozza\"})\n",
      "db.things.find()"
     ],
     "language": "python",
     "metadata": {},
     "outputs": [
      {
       "output_type": "stream",
       "stream": "stdout",
       "text": [
        "{ \"_id\" : 123, \"city\" : \"Gateshead\", \"hello\" : \"DIBI\", \"ts\" : ISODate(\"2013-10-02T14:01:48.149Z\") }\n",
        "{ \"_id\" : ObjectId(\"524c274c16809e13d3c92fcb\"), \"city\" : \"Gateshead\", \"name\" : \"Ross\" }\n",
        "\n"
       ]
      }
     ],
     "prompt_number": 13
    },
    {
     "cell_type": "markdown",
     "metadata": {},
     "source": [
      "If we don't specify what documents to remove MongoDB will remove them all. This just removes\n",
      "the documents. The collection and its indexes still exist."
     ]
    },
    {
     "cell_type": "code",
     "collapsed": false,
     "input": [
      "%%mongo\n",
      "db.things.remove()\n",
      "db.things.count()"
     ],
     "language": "python",
     "metadata": {},
     "outputs": [
      {
       "output_type": "stream",
       "stream": "stdout",
       "text": [
        "0\n",
        "\n"
       ]
      }
     ],
     "prompt_number": 14
    },
    {
     "cell_type": "code",
     "collapsed": false,
     "input": [
      "%%mongo\n",
      "db.getCollectionNames()"
     ],
     "language": "python",
     "metadata": {},
     "outputs": [
      {
       "output_type": "stream",
       "stream": "stdout",
       "text": [
        "[ \"posts\", \"sample\", \"scores\", \"system.indexes\", \"things\" ]\n",
        "\n"
       ]
      }
     ],
     "prompt_number": 15
    },
    {
     "cell_type": "markdown",
     "metadata": {},
     "source": [
      "We can use the database object's `dropCollection` method to drop the collection and its indexes."
     ]
    },
    {
     "cell_type": "code",
     "collapsed": false,
     "input": [
      "%%mongo\n",
      "db.things.drop()\n",
      "db.getCollectionNames()"
     ],
     "language": "python",
     "metadata": {},
     "outputs": [
      {
       "output_type": "stream",
       "stream": "stdout",
       "text": [
        "true\n",
        "[ \"posts\", \"sample\", \"scores\", \"system.indexes\" ]\n",
        "\n"
       ]
      }
     ],
     "prompt_number": 19
    },
    {
     "cell_type": "markdown",
     "metadata": {},
     "source": [
      "We can use the connection object's `dropDatabase()` command to drop a database."
     ]
    },
    {
     "cell_type": "code",
     "collapsed": false,
     "input": [
      "%%mongo test\n",
      "db.dropDatabase()\n",
      "show databases"
     ],
     "language": "python",
     "metadata": {},
     "outputs": [
      {
       "output_type": "stream",
       "stream": "stdout",
       "text": [
        "{ \"dropped\" : \"test\", \"ok\" : 1 }\n",
        "DBPortTest1\t0.203125GB\n",
        "DBPortTest2\t0.203125GB\n",
        "MongoScala\t0.203125GB\n",
        "admin\t0.203125GB\n",
        "casbahIntegration\t0.203125GB\n",
        "casbah_gridfs_test\t0.203125GB\n",
        "casbah_test\t0.203125GB\n",
        "celery_broker\t0.203125GB\n",
        "config\t0.203125GB\n",
        "demo\t0.203125GB\n",
        "enron\t(empty)\n",
        "local\t0.078125GB\n",
        "messages\t0.203125GB\n",
        "mongoScalaTest\t0.203125GB\n",
        "mongoenginetest\t0.203125GB\n",
        "mongoenginetest2\t0.203125GB\n",
        "mongoenginetest3\t0.203125GB\n",
        "mongoenginetest4\t0.203125GB\n",
        "mongomallard-test\t0.203125GB\n",
        "my_tumble_log\t0.203125GB\n",
        "results\t0.203125GB\n",
        "scala-tumblelog\t0.203125GB\n",
        "test_files\t0.203125GB\n",
        "text\t0.203125GB\n",
        "training\t0.203125GB\n",
        "tutorial\t(empty)\n",
        "unittests\t0.203125GB\n",
        "\n"
       ]
      }
     ],
     "prompt_number": 18
    },
    {
     "cell_type": "markdown",
     "metadata": {},
     "source": [
      "# Exercises\n",
      "\n",
      "1. Using the training.scores collection set a 'grade' attribute. For example, scores greater than or equal to 90 get an 'A'.\n",
      "2. You're being nice so you decide to add 10 points to every score less than 60. How would you do that?\n",
      "3. Remove all scores below 80."
     ]
    }
   ],
   "metadata": {}
  }
 ]
}