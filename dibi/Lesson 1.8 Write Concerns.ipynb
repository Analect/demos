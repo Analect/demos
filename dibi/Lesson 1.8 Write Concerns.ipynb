{
 "metadata": {
  "name": ""
 },
 "nbformat": 3,
 "nbformat_minor": 0,
 "worksheets": [
  {
   "cells": [
    {
     "cell_type": "markdown",
     "metadata": {},
     "source": [
      "# Fire-and-forget and safe write operations.\n",
      "\n",
      "By default all of the 10gen drivers for MongoDB (including PyMongo) do\n",
      "fire-and-forget write operations. PyMongo does not check for an\n",
      "acknowledgment from the server that a write operation was successful.\n",
      "This behavior can be changed using \"safe\" and related options."
     ]
    },
    {
     "cell_type": "code",
     "collapsed": false,
     "input": [
      "db = conn.tutorial\n",
      "db.safe_example.insert({'_id': 123})"
     ],
     "language": "python",
     "metadata": {},
     "outputs": [
      {
       "ename": "NameError",
       "evalue": "name 'conn' is not defined",
       "output_type": "pyerr",
       "traceback": [
        "\u001b[1;31m---------------------------------------------------------------------------\u001b[0m\n\u001b[1;31mNameError\u001b[0m                                 Traceback (most recent call last)",
        "\u001b[1;32m<ipython-input-19-993a7c5eea36>\u001b[0m in \u001b[0;36m<module>\u001b[1;34m()\u001b[0m\n\u001b[1;32m----> 1\u001b[1;33m \u001b[0mdb\u001b[0m \u001b[1;33m=\u001b[0m \u001b[0mconn\u001b[0m\u001b[1;33m.\u001b[0m\u001b[0mtutorial\u001b[0m\u001b[1;33m\u001b[0m\u001b[0m\n\u001b[0m\u001b[0;32m      2\u001b[0m \u001b[0mdb\u001b[0m\u001b[1;33m.\u001b[0m\u001b[0msafe_example\u001b[0m\u001b[1;33m.\u001b[0m\u001b[0minsert\u001b[0m\u001b[1;33m(\u001b[0m\u001b[1;33m{\u001b[0m\u001b[1;34m'_id'\u001b[0m\u001b[1;33m:\u001b[0m \u001b[1;36m123\u001b[0m\u001b[1;33m}\u001b[0m\u001b[1;33m)\u001b[0m\u001b[1;33m\u001b[0m\u001b[0m\n",
        "\u001b[1;31mNameError\u001b[0m: name 'conn' is not defined"
       ]
      }
     ],
     "prompt_number": 19
    },
    {
     "cell_type": "code",
     "collapsed": false,
     "input": [
      "db.safe_example.insert({'_id': 123})"
     ],
     "language": "python",
     "metadata": {},
     "outputs": []
    },
    {
     "cell_type": "code",
     "collapsed": false,
     "input": [
      "db.safe_example.count()"
     ],
     "language": "python",
     "metadata": {},
     "outputs": []
    },
    {
     "cell_type": "markdown",
     "metadata": {},
     "source": [
      "In the above example we tried to insert two documents with the\n",
      "same _id field but only one was successfully written. We can add\n",
      "safe=True to see what happened. The _id field has an automatic\n",
      "unique index causing the second insert to fail. Without safe=True\n",
      "write operations will fail silently."
     ]
    },
    {
     "cell_type": "code",
     "collapsed": false,
     "input": [
      "try:\n",
      "    db.safe_example.insert({'_id': 123}, safe=True)\n",
      "except Exception, e:\n",
      "    print str(e)"
     ],
     "language": "python",
     "metadata": {},
     "outputs": []
    },
    {
     "cell_type": "markdown",
     "metadata": {},
     "source": [
      "Safe can also be used to check the results of an update operation. The return value\n",
      "indicates if existing documents were updated (useful with upsert) and how many documents\n",
      "were updated (useful with multi)."
     ]
    },
    {
     "cell_type": "code",
     "collapsed": false,
     "input": [
      "db.safe_example.update({'_id': 123}, {'$set': {'foo': 'bar'}}, safe=True)"
     ],
     "language": "python",
     "metadata": {},
     "outputs": []
    },
    {
     "cell_type": "markdown",
     "metadata": {},
     "source": [
      "Other options can be passed to insert, save, update, and remove that imply safe=True. These include:\n",
      "\n",
      "w (int), wtimeout (int milliseconds) - Used with replica sets to ensure the operation is replicated to 'w' servers within 'wtimeout' milliseconds.\n",
      "\n",
      "fsync (boolean) - Force the server to immediately sync dirty memory pages to disk after the write operation.\n",
      "\n",
      "journal (boolean) - Tells the server not to respond until the next journal group commit."
     ]
    },
    {
     "cell_type": "markdown",
     "metadata": {},
     "source": [
      "# Exercises\n",
      "\n",
      "1. Using the training.scores collection set a 'grade' attribute. For example, scores greater than or equal to 90 get an 'A'.\n",
      "2. You're being nice so you decide to add 10 points to every score less than 60. How would you do that?\n",
      "3. Remove all scores below 80."
     ]
    }
   ],
   "metadata": {}
  }
 ]
}