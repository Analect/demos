{
 "metadata": {
  "name": ""
 },
 "nbformat": 3,
 "nbformat_minor": 0,
 "worksheets": [
  {
   "cells": [
    {
     "cell_type": "markdown",
     "metadata": {},
     "source": [
      "# Lesson 1.2: Adding Data"
     ]
    },
    {
     "cell_type": "markdown",
     "metadata": {},
     "source": [
      "First lets clear out any test data - **don't do this unless you want to drop all documents in the database.**"
     ]
    },
    {
     "cell_type": "code",
     "collapsed": false,
     "input": [
      "%%mongo test\n",
      "db.dropDatabase();"
     ],
     "language": "python",
     "metadata": {},
     "outputs": [
      {
       "output_type": "stream",
       "stream": "stdout",
       "text": [
        "{ \"dropped\" : \"test\", \"ok\" : 1 }\n",
        "\n"
       ]
      }
     ],
     "prompt_number": 1
    },
    {
     "cell_type": "markdown",
     "metadata": {},
     "source": [
      "## Creating some documents\n",
      "\n",
      "MongoDB stores data as *documents* rather than the *rows* you may\n",
      "be used to from relational databases. Documents are stored in a \n",
      "data format called BSON, similar to JSON. All you really need to\n",
      "know when you're using the shell, however, is that documents are \n",
      "JSON objects that can have strings as keys and can contain\n",
      "various primitive types (`int`, `float`, `unicode`, `Dates`) \n",
      "as well as other documents (Embedded Documents) and `arrays`. \n",
      "\n",
      "To insert some data into MongoDB, all we need to do is create an \n",
      "`object` and call `.insert()` on the collection object:"
     ]
    },
    {
     "cell_type": "code",
     "collapsed": false,
     "input": [
      "%%mongo test\n",
      "var post = {\"author\": \"Ross\",\n",
      "            \"text\": \"My first blog post!\",\n",
      "            \"tags\": [\"mongodb\", \"python\", \"pymongo\"],\n",
      "            \"date\": Date()};\n",
      "db.posts.insert(post);"
     ],
     "language": "python",
     "metadata": {},
     "outputs": [
      {
       "output_type": "stream",
       "stream": "stdout",
       "text": [
        "\n"
       ]
      }
     ],
     "prompt_number": 2
    },
    {
     "cell_type": "markdown",
     "metadata": {},
     "source": [
      "Here\u2019s a simple loop that inserts 1000 documents, with an i field that\u2019s an integer, and an x field that\u2019s a\n",
      "random number:"
     ]
    },
    {
     "cell_type": "code",
     "collapsed": false,
     "input": [
      "%%mongo test\n",
      "for(i=0; i<1000; i++) {\n",
      "  db.sample.insert( { \"i\" : i, \"x\" : Math.random() } );\n",
      "}\n",
      "db.sample.count();"
     ],
     "language": "python",
     "metadata": {},
     "outputs": [
      {
       "output_type": "stream",
       "stream": "stdout",
       "text": [
        "1000\n",
        "\n"
       ]
      }
     ],
     "prompt_number": 3
    },
    {
     "cell_type": "markdown",
     "metadata": {},
     "source": [
      "### Reference Documentation\n",
      "\n",
      "http://docs.mongodb.org/manual/reference/method/db.collection.insert/"
     ]
    },
    {
     "cell_type": "markdown",
     "metadata": {},
     "source": [
      "## Retrieving our data\n",
      "\n",
      "Inserting data is all well and good, but how about retrieving \n",
      "some of the data we've inserted? For this, `Collection`s provide the `find()` \n",
      "and `findOne()` methods:"
     ]
    },
    {
     "cell_type": "code",
     "collapsed": false,
     "input": [
      "%%mongo test\n",
      "db.posts.find()"
     ],
     "language": "python",
     "metadata": {},
     "outputs": [
      {
       "output_type": "stream",
       "stream": "stdout",
       "text": [
        "{ \"_id\" : ObjectId(\"524c06ee6c22afe3652bb9bf\"), \"author\" : \"Ross\", \"text\" : \"My first blog post!\", \"tags\" : [ \"mongodb\", \"python\", \"pymongo\" ], \"date\" : \"Wed Oct 02 2013 11:43:42 GMT+0000 (UTC)\" }\n",
        "\n"
       ]
      }
     ],
     "prompt_number": 4
    },
    {
     "cell_type": "code",
     "collapsed": false,
     "input": [
      "%%mongo test\n",
      "db.posts.findOne()"
     ],
     "language": "python",
     "metadata": {},
     "outputs": [
      {
       "output_type": "stream",
       "stream": "stdout",
       "text": [
        "{\n",
        "\t\"_id\" : ObjectId(\"524c06ee6c22afe3652bb9bf\"),\n",
        "\t\"author\" : \"Ross\",\n",
        "\t\"text\" : \"My first blog post!\",\n",
        "\t\"tags\" : [\n",
        "\t\t\"mongodb\",\n",
        "\t\t\"python\",\n",
        "\t\t\"pymongo\"\n",
        "\t],\n",
        "\t\"date\" : \"Wed Oct 02 2013 11:43:42 GMT+0000 (UTC)\"\n",
        "}\n",
        "\n"
       ]
      }
     ],
     "prompt_number": 5
    },
    {
     "cell_type": "code",
     "collapsed": false,
     "input": [
      "%%mongo test\n",
      "db.posts.find().pretty()"
     ],
     "language": "python",
     "metadata": {},
     "outputs": [
      {
       "output_type": "stream",
       "stream": "stdout",
       "text": [
        "{\n",
        "\t\"_id\" : ObjectId(\"524c06ee6c22afe3652bb9bf\"),\n",
        "\t\"author\" : \"Ross\",\n",
        "\t\"text\" : \"My first blog post!\",\n",
        "\t\"tags\" : [\n",
        "\t\t\"mongodb\",\n",
        "\t\t\"python\",\n",
        "\t\t\"pymongo\"\n",
        "\t],\n",
        "\t\"date\" : \"Wed Oct 02 2013 11:43:42 GMT+0000 (UTC)\"\n",
        "}\n",
        "\n"
       ]
      }
     ],
     "prompt_number": 6
    },
    {
     "cell_type": "markdown",
     "metadata": {},
     "source": [
      "### Aside: The _id field and ObjectId\n",
      "\n",
      "Every document in a regular MongoDB collection contains a unique \n",
      "key called `_id`.  Any primitive BSON type can be used for the \n",
      "`_id` field (apart from arrays), but most commonly, \n",
      "we will use a `ObjectId` as our _id. (You can think of `ObjectId` \n",
      "as filling the same  role as an integer primary key with \n",
      "auto-increment that you might use in another database).\n",
      "\n",
      "When we insert a document that does not specify an `_id` field, \n",
      "mongodb helpfully generates a default `ObjectId` based on the \n",
      "client machine, current timestamp, and a few other factors. What \n",
      "you really need to know about `ObjectId`s so generated is that\n",
      "\n",
      "- they can be assumed to be globally unique identifiers\n",
      "- they are generated in (generally) increasing order (the most \n",
      "significant bits of an ObjectId are the current timestamp.\n",
      "\n",
      "The return value of our `insert()` above is the `_id` value of\n",
      "the newly-created document."
     ]
    },
    {
     "cell_type": "markdown",
     "metadata": {},
     "source": [
      "# Exercises\n",
      "\n",
      "1. Practice inserting objects with custom ids. Then try inserting more than one document with the same `_id`.\n",
      "1. Note the difference between the following:\n",
      "<code>\n",
      "    db.foo.insert( { \"_id\" : new ObjectId().valueOf() } ) ;\n",
      "    db.foo.insert( { \"_id\" : new ObjectId() } ) ;\n",
      "</code>\n",
      "1. Use `find()` to get a cursor over all the documents in a collection. Iterate over each of them, printing them out.\n",
      "1. Use `findOne()` to retrieve a single document.\n",
      "1. Drop the `test` database.\n",
      "1. Count the documents we imported earlier in the `training` database.  What collection are they in?"
     ]
    }
   ],
   "metadata": {}
  }
 ]
}