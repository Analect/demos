{
 "metadata": {
  "name": ""
 },
 "nbformat": 3,
 "nbformat_minor": 0,
 "worksheets": [
  {
   "cells": [
    {
     "cell_type": "markdown",
     "metadata": {},
     "source": [
      "![MongoDB](http://info.10gen.com/rs/10gen/images/MongoDB_Logo_SingleColor_White.png)\n",
      "\n",
      "# Lesson 1.0: Installing MongoDB\n",
      "\n",
      "First of all, we need a place to put all the files we'll be using. If you're on \n",
      "Windows, let's call that directory `C:\\Tutorial`. On Mac or Linux, we'll just put\n",
      "everything into `~/tutorial`. This is the directory we'll mean when we say \n",
      "\"tutorial home.\"\n",
      "\n",
      "## Download and install MongoDB\n",
      "\n",
      "The next thing you'll need is a copy of the MongoDB server from 10gen. Find\n",
      "the appropriate download for your platform at <http://www.mongodb.org/downloads>.\n",
      "For each of these downloads, you just need to unzip the downloaded file to get a \n",
      "ready-to run server. Run the following commands in your tutorial directory.\n",
      "\n",
      "\n",
      "## Verify that MongoDB is installed correctly\n",
      "\n",
      "Next, you need to run the server and make sure it's configured properly.\n",
      "\n",
      "<code>\n",
      "    $ cd mongodb-src-2.4.6\n",
      "    $ mkdir data\n",
      "    $ ./bin/mongod --dbpath ./data --nojournal &\n",
      "</code>\n",
      "\n",
      "Once this is running, switch to another window, cd to your tutorial home, and\n",
      "attempt to connect:\n",
      "\n",
      "    $ ./bin/mongo \n",
      "\n",
      "If you see something like\n",
      "\n",
      "    MongoDB shell version: 2.4.6\n",
      "    connecting to: test\n",
      "    > \n",
      "\n",
      "Then everything's working fine. Type `exit` to quit.\n",
      "\n",
      "## Insert the example data\n",
      "\n",
      "We will need some example data for part of the tutorial.\n",
      "\n",
      "<code>\n",
      "    $ wget https://raw.github.com/rozza/presentations/master/dibi/data/scores.json\n",
      "    $ ./bin/mongoimport -d training -c scores scores.json\n",
      "    \n",
      "    connected to: 127.0.0.1\n",
      "    Mon Oct  7 13:30:00.000 check 9 3000\n",
      "    Mon Oct  7 13:30:00.000 imported 3000 objects\n",
      "</code>\n",
      "\n",
      "That's it! Time to move on to the next lesson....\n",
      "    "
     ]
    }
   ],
   "metadata": {}
  }
 ]
}