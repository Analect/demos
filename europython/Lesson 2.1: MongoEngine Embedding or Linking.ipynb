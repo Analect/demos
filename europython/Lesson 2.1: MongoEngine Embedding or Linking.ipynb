{
 "metadata": {
  "name": "Lesson 2.1: MongoEngine Embedding or Linking"
 }, 
 "nbformat": 2, 
 "worksheets": [
  {
   "cells": [
    {
     "cell_type": "markdown", 
     "source": [
      "# Embedding or Linking", 
      "There are no joins in MongoDB but you do get powerful and flexible dictionary style documents over", 
      "simple rows.  When it comes to modelling data in MongoDB you have a choice, you can embed that data", 
      "and keep it local or you can link to that data but there is a cost of an extra join but it can be ", 
      "easier to query", 
      "", 
      "# Embedded Documents", 
      "", 
      "MongoEngine has an `EmbeddedDocument` class for describing the schema of embedded data.  Essentially ", 
      "its very similar to a `Document` but there is less `meta` magic handling indexes and setting up ", 
      "`QuerySet Managers`.", 
      "", 
      "## Comments", 
      "", 
      "So lets add `Comments` as an embedded list to our `Post` model.  First define a comment:"
     ]
    }, 
    {
     "cell_type": "code", 
     "collapsed": false, 
     "input": [
      "import datetime", 
      "import mongoengine as db", 
      "", 
      "conn = db.connect('tumblelog')", 
      "conn.drop_database('tumblelog')", 
      "", 
      "class Comment(db.EmbeddedDocument):", 
      "    created_at = db.DateTimeField(default=datetime.datetime.now, required=True)", 
      "    body = db.StringField(verbose_name=\"Comment\", required=True)", 
      "    author = db.StringField(verbose_name=\"Name\", max_length=255, required=True)", 
      "", 
      "    def __unicode__(self):", 
      "        return (u\"comment by %s\" % self.author) if self.author else \"New Comment\"", 
      "    ", 
      "Comment()"
     ], 
     "language": "python", 
     "outputs": [
      {
       "output_type": "pyout", 
       "prompt_number": 1, 
       "text": [
        "<Comment: New Comment>"
       ]
      }
     ], 
     "prompt_number": 1
    }, 
    {
     "cell_type": "markdown", 
     "source": [
      "Now update the `Post` document definition:"
     ]
    }, 
    {
     "cell_type": "code", 
     "collapsed": true, 
     "input": [
      "class Post(db.Document):", 
      "    created_at = db.DateTimeField(default=datetime.datetime.now, required=True)", 
      "    title = db.StringField(max_length=255, required=True)", 
      "    slug = db.StringField(max_length=255, required=True)", 
      "    body = db.StringField(required=True)", 
      "    comments = db.ListField(db.EmbeddedDocumentField('Comment'))", 
      "    ", 
      "    def __unicode__(self):", 
      "        return unicode(self.title) or u\"New Post\""
     ], 
     "language": "python", 
     "outputs": [], 
     "prompt_number": 2
    }, 
    {
     "cell_type": "markdown", 
     "source": [
      "Now lets add some data and see how we can query against embedded data"
     ]
    }, 
    {
     "cell_type": "code", 
     "collapsed": false, 
     "input": [
      "Post(title=\"mongoengine post\", ", 
      "     slug=\"mongoengine-post\", ", 
      "     body=\"Welcome to Europython 2012!\").save()", 
      "", 
      "comment_1 = Comment(author=\"Ross\",", 
      "                    body=\"Nice post thanks\")", 
      "comment_2 = Comment(author=\"Bob\",", 
      "                    body=\"Florence rocks!\")", 
      "", 
      "Post.objects.update(push_all__comments=[comment_1, comment_2])", 
      "", 
      "post = Post.objects.first()", 
      "post.comments"
     ], 
     "language": "python", 
     "outputs": [
      {
       "output_type": "pyout", 
       "prompt_number": 3, 
       "text": [
        "[<Comment: comment by Ross>, <Comment: comment by Bob>]"
       ]
      }
     ], 
     "prompt_number": 3
    }, 
    {
     "cell_type": "markdown", 
     "source": [
      "Now we have some comments, we can look at querying comments to find documents that match.  To query an", 
      "`EmbeddedDocument` we use *parent\\_field\\_name*__*embedded\\_field\\_name*=expected_value:"
     ]
    }, 
    {
     "cell_type": "code", 
     "collapsed": false, 
     "input": [
      "Post.objects(comments__author=\"Ross\")"
     ], 
     "language": "python", 
     "outputs": [
      {
       "output_type": "pyout", 
       "prompt_number": 4, 
       "text": [
        "[<Post: mongoengine post>]"
       ]
      }
     ], 
     "prompt_number": 4
    }, 
    {
     "cell_type": "markdown", 
     "source": [
      "As you can see that matches all documents where Ross has authored a comment.", 
      "", 
      "## Updating Embedded data", 
      "", 
      "This is similar to how you updated an ordinary document eg:  ", 
      "**update\\_operation**__*parent\\_field\\_name*__*embedded\\_field\\_name*=value.  ", 
      "", 
      "When dealing with lists you can also match against position by using the ", 
      "`positional operator $`.  As symbols aren't allowed in keyword arguments (without using", 
      "dictionaries) you can use **S** as the positional match.  The positional operator will", 
      "only update the first list element that matches the query.  eg:"
     ]
    }, 
    {
     "cell_type": "code", 
     "collapsed": false, 
     "input": [
      "Post.objects(comments__author=\"Ross\").update(set__comments__S__author=\"Rozza\")", 
      "Post.objects.first().comments"
     ], 
     "language": "python", 
     "outputs": [
      {
       "output_type": "pyout", 
       "prompt_number": 5, 
       "text": [
        "[<Comment: comment by Rozza>, <Comment: comment by Bob>]"
       ]
      }
     ], 
     "prompt_number": 5
    }, 
    {
     "cell_type": "markdown", 
     "source": [
      "## Paginating comments", 
      "", 
      "MongoDB's query language is focused on returning documents.  However, you can reduce how much", 
      "data is sent over the wire by paginate through a list fields by using the `slice` operator to", 
      "skip and limit the returned list items:"
     ]
    }, 
    {
     "cell_type": "code", 
     "collapsed": false, 
     "input": [
      "post = Post.objects.fields(slice__comments=[1,1]).first()", 
      "post.comments"
     ], 
     "language": "python", 
     "outputs": [
      {
       "output_type": "pyout", 
       "prompt_number": 6, 
       "text": [
        "[<Comment: comment by Bob>]"
       ]
      }
     ], 
     "prompt_number": 6
    }, 
    {
     "cell_type": "markdown", 
     "source": [
      "# Relations", 
      "", 
      "MongoEngine also handles relationships similar conceptially similar to Foreign Keys, however, ", 
      "you cannot query through a foreign key.  In the background MongoEngine will collect all the ", 
      "references up and then issue extra queries to get the data.", 
      "", 
      "## Author", 
      "", 
      "Lets add a `User` class and add `Author` to the Post."
     ]
    }, 
    {
     "cell_type": "code", 
     "collapsed": false, 
     "input": [
      "class User(db.Document):", 
      "    email = db.StringField(required=True)", 
      "    first_name = db.StringField(max_length=50)", 
      "    last_name = db.StringField(max_length=50)", 
      "", 
      "ross = User(email=\"ross@10gen.com\", first_name=\"Ross\", last_name=\"Lawley\").save()", 
      "ross"
     ], 
     "language": "python", 
     "outputs": [
      {
       "output_type": "pyout", 
       "prompt_number": 7, 
       "text": [
        "<User: User object>"
       ]
      }
     ], 
     "prompt_number": 7
    }, 
    {
     "cell_type": "code", 
     "collapsed": true, 
     "input": [
      "class Post(db.Document):", 
      "    created_at = db.DateTimeField(default=datetime.datetime.now, required=True)", 
      "    title = db.StringField(max_length=255, required=True)", 
      "    slug = db.StringField(max_length=255, required=True)", 
      "    body = db.StringField(required=True)", 
      "    author = db.ReferenceField('User', required=True)", 
      "    comments = db.ListField(db.EmbeddedDocumentField('Comment'))", 
      "    ", 
      "    def __unicode__(self):", 
      "        return unicode(self.title) or u\"New Post\"", 
      "", 
      "# Migrate!", 
      "Post.objects.update(set__author=ross)"
     ], 
     "language": "python", 
     "outputs": [
      {
       "output_type": "pyout", 
       "prompt_number": 8, 
       "text": [
        "1"
       ]
      }
     ], 
     "prompt_number": 8
    }, 
    {
     "cell_type": "markdown", 
     "source": [
      "# Exercises", 
      "", 
      "1. Create a couple of posts in your database and add comments to each post.", 
      "1. Write a loop that paginates through the comments of a post.", 
      "1. Write some code to find all comments by a particular author.  ", 
      "1. What are the advantages and disadvantages of Embedding data?", 
      "1. What happens if you try to query through a ReferenceField?"
     ]
    }
   ]
  }
 ]
}