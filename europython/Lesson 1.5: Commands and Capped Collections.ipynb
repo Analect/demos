{
 "metadata": {
  "name": "Lesson 1.5: Commands and Capped Collections"
 }, 
 "nbformat": 2, 
 "worksheets": [
  {
   "cells": [
    {
     "cell_type": "markdown", 
     "source": [
      "# Commands", 
      "", 
      "MongoDB provides statistics about your collections but you need to call the actual commands.", 
      "For database wide statistics call the `dbstats` command:"
     ]
    }, 
    {
     "cell_type": "code", 
     "collapsed": false, 
     "input": [
      "import pymongo", 
      "conn = pymongo.Connection()", 
      "conn.drop_database('example')", 
      "", 
      "db = conn.example", 
      "db.test.insert({'hello': 'world'})", 
      "", 
      "db.command({'dbstats': 1})"
     ], 
     "language": "python", 
     "outputs": [
      {
       "output_type": "pyout", 
       "prompt_number": 1, 
       "text": [
        "{u'avgObjSize': 42.399999999999999,", 
        " u'collections': 3,", 
        " u'dataSize': 212,", 
        " u'db': u'example',", 
        " u'fileSize': 201326592,", 
        " u'indexSize': 8176,", 
        " u'indexes': 1,", 
        " u'nsSizeMB': 16,", 
        " u'numExtents': 3,", 
        " u'objects': 5,", 
        " u'ok': 1.0,", 
        " u'storageSize': 12288}"
       ]
      }
     ], 
     "prompt_number": 1
    }, 
    {
     "cell_type": "markdown", 
     "source": [
      "To get collection statistics use the `collstats` command and pass in the collection", 
      "name that you want stats for."
     ]
    }, 
    {
     "cell_type": "code", 
     "collapsed": false, 
     "input": [
      "db.command({'collstats': 'test'})"
     ], 
     "language": "python", 
     "outputs": [
      {
       "output_type": "pyout", 
       "prompt_number": 2, 
       "text": [
        "{u'avgObjSize': 40.0,", 
        " u'count': 1,", 
        " u'indexSizes': {u'_id_': 8176},", 
        " u'lastExtentSize': 4096,", 
        " u'nindexes': 1,", 
        " u'ns': u'example.test',", 
        " u'numExtents': 1,", 
        " u'ok': 1.0,", 
        " u'paddingFactor': 1.0,", 
        " u'size': 40,", 
        " u'storageSize': 4096,", 
        " u'systemFlags': 1,", 
        " u'totalIndexSize': 8176,", 
        " u'userFlags': 0}"
       ]
      }
     ], 
     "prompt_number": 2
    }, 
    {
     "cell_type": "markdown", 
     "source": [
      "# Capped collections", 
      "", 
      "Capped collections are fixed sized collections that have a very high performance auto-FIFO age-out feature ", 
      "(age out is based on insertion order)."
     ]
    }, 
    {
     "cell_type": "code", 
     "collapsed": false, 
     "input": [
      "db.create_collection('capped', capped=True, size=1000)", 
      "", 
      "for i in xrange(1, 1000):", 
      "    db.capped.insert({'name': \"%s\" % i, \"value\": i})", 
      "", 
      "db.capped.count()"
     ], 
     "language": "python", 
     "outputs": [
      {
       "output_type": "pyout", 
       "prompt_number": 3, 
       "text": [
        "59"
       ]
      }
     ], 
     "prompt_number": 3
    }, 
    {
     "cell_type": "markdown", 
     "source": [
      "## Tailable cursors", 
      "", 
      "A tailable cursor \"tails\" the end of a *capped collection*, much like the Unix \"tail -f\" command. ", 
      "They key idea is that if we \"catch up\" and have reached the end of the collection, ", 
      "our position is remembered rather than the cursor being closed. ", 
      "Thus, after new objects are inserted, we can resume retrieving from where we left off \u2013 which is then ", 
      "very inexpensive. If you reach the end of the collection and request more data, the cursor will ", 
      "block waiting for new documents to be inserted."
     ]
    }, 
    {
     "cell_type": "code", 
     "collapsed": true, 
     "input": [
      "run = False #  Done so I dont break Ipython notebook", 
      "import time", 
      "", 
      "cursor = db.capped.find(tailable=True)", 
      "while cursor.alive and run:", 
      "    try:", 
      "        doc = cursor.next()", 
      "        print doc", 
      "    except StopIteration:", 
      "        time.sleep(1)"
     ], 
     "language": "python", 
     "outputs": [], 
     "prompt_number": 4
    }, 
    {
     "cell_type": "markdown", 
     "source": [
      "# Exercises", 
      "", 
      "1. List all the collections in the `example` database", 
      "1. After loading data into the `capped` collection what is its size?", 
      "1. Why are there only 59 documents in the `capped` collection?", 
      "1. List the indexes for the `capped` collection", 
      "1. Test the tailable cursor by creating a tailable cursor in one shell and in another add some data", 
      "1. What happens if you try to create a tailable cursor on the `test` collection?"
     ]
    }
   ]
  }
 ]
}