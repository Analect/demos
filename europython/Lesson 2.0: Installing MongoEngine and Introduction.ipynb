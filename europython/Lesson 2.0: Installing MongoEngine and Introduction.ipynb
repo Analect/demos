{
 "metadata": {
  "name": "Lesson 2.0: Installing MongoEngine and Introduction"
 }, 
 "nbformat": 2, 
 "worksheets": [
  {
   "cells": [
    {
     "cell_type": "markdown", 
     "source": [
      "# Mongoengine Introduction", 
      "", 
      "PyMongo is extremely flexible and fast but sometime writing schema validation", 
      "can be cumbersome.   MongoEngine is a Document-Object Mapper for working with ", 
      "MongoDB from Python. It uses a simple declarative API, similar to the Django ORM.", 
      "", 
      "## What does MongoEngine do?", 
      "", 
      "MongoEngine provides several main facilities:", 
      "", 
      " - schema validation and enforcement", 
      " - an object-document mapper providing higher-level constructs such as ", 
      "   - a unit of work pattern", 
      "   - relations between documents", 
      "", 
      "This lesson will teach you to install MongoEngine and how to use it."
     ]
    }, 
    {
     "cell_type": "markdown", 
     "source": [
      "## Installing MongoEngine", 
      "", 
      "Due to some dependency issues, you will need to install `PasteDeploy` and `Paste` before ", 
      "installing MongoEngine:", 
      "    (tutorial-env) $ pip install MongoEngine", 
      "", 
      "Hopefully that proceeded without any problems, and now you should be able to", 
      "import MongoEngine from Python."
     ]
    }, 
    {
     "cell_type": "code", 
     "collapsed": true, 
     "input": [
      "import mongoengine"
     ], 
     "language": "python", 
     "outputs": [], 
     "prompt_number": 1
    }, 
    {
     "cell_type": "markdown", 
     "source": [
      "## Connecting to MongoDB", 
      "", 
      "Connecting to MongoEngine is simple, here we are connecting to the tumblelog database:"
     ]
    }, 
    {
     "cell_type": "code", 
     "collapsed": false, 
     "input": [
      "from mongoengine import connect", 
      "", 
      "conn = connect('tumblelog')", 
      "conn"
     ], 
     "language": "python", 
     "outputs": [
      {
       "output_type": "pyout", 
       "prompt_number": 2, 
       "text": [
        "Connection('localhost', 27017)"
       ]
      }
     ], 
     "prompt_number": 2
    }, 
    {
     "cell_type": "markdown", 
     "source": [
      "## Defining a collection", 
      "", 
      "So far, we have shown how you only how to connect to PyMongo without any real benefit. ", 
      "Now, let's actually do something useful: create our first collection. Our schema will be based around a", 
      "tumblelog application"
     ]
    }, 
    {
     "cell_type": "code", 
     "collapsed": false, 
     "input": [
      "import datetime", 
      "import mongoengine as db", 
      "", 
      "", 
      "class Post(db.Document):", 
      "    created_at = db.DateTimeField(default=datetime.datetime.now, required=True)", 
      "    title = db.StringField(max_length=255, required=True)", 
      "    slug = db.StringField(max_length=255, required=True)", 
      "    body = db.StringField(required=True)", 
      "    ", 
      "    def __unicode__(self):", 
      "        return self.title or \"New Post\"", 
      "", 
      "Post.drop_collection()   # Drop collection", 
      "    ", 
      "Post()"
     ], 
     "language": "python", 
     "outputs": [
      {
       "output_type": "pyout", 
       "prompt_number": 3, 
       "text": [
        "<Post: New Post>"
       ]
      }
     ], 
     "prompt_number": 3
    }, 
    {
     "cell_type": "markdown", 
     "source": [
      "What we've done here is create a Post document class that represents post documents", 
      "in the `tumblelog.post` collection."
     ]
    }, 
    {
     "cell_type": "markdown", 
     "source": [
      "### Default Values", 
      "", 
      "By setting a `default` value to the field definitions you can declare default values.  Default values can", 
      "also be callable functions eg: `datetime.datetime.now` will set the current time on creation of a post:"
     ]
    }, 
    {
     "cell_type": "code", 
     "collapsed": false, 
     "input": [
      "post = Post()", 
      "post.created_at"
     ], 
     "language": "python", 
     "outputs": [
      {
       "output_type": "pyout", 
       "prompt_number": 4, 
       "text": [
        "datetime.datetime(2012, 7, 2, 13, 58, 34, 359462)"
       ]
      }
     ], 
     "prompt_number": 4
    }, 
    {
     "cell_type": "markdown", 
     "source": [
      "### Invalid values", 
      "", 
      "MongoEngine won't throw an exception when you set an invalid attribute but will throw it on `save` or when", 
      "calling `validate`:"
     ]
    }, 
    {
     "cell_type": "code", 
     "collapsed": false, 
     "input": [
      "post.created_at = \"This should be a date\"", 
      "try:", 
      "    post.validate()", 
      "except Exception, e:", 
      "    print e.errors['created_at']"
     ], 
     "language": "python", 
     "outputs": [
      {
       "output_type": "stream", 
       "stream": "stdout", 
       "text": [
        "cannot parse date \"This should be a date\" (\"created_at\")"
       ]
      }
     ], 
     "prompt_number": 5
    }, 
    {
     "cell_type": "markdown", 
     "source": [
      "## Saving and querying", 
      "", 
      "Now we have defined our model lets look at how we can add posts and then how we can ", 
      "find documents once in the database.", 
      "", 
      "### Saving documents"
     ]
    }, 
    {
     "cell_type": "code", 
     "collapsed": false, 
     "input": [
      "post = Post(title=\"mongoengine post\", ", 
      "            slug=\"mongoengine-post\", ", 
      "            body=\"Welcome to Europython 2012!\")", 
      "post.save()"
     ], 
     "language": "python", 
     "outputs": [
      {
       "output_type": "pyout", 
       "prompt_number": 6, 
       "text": [
        "<Post: mongoengine post>"
       ]
      }
     ], 
     "prompt_number": 6
    }, 
    {
     "cell_type": "markdown", 
     "source": [
      "The save method will then save the data in mongoDB.  By default all saves in MongoEngine are synchronous", 
      "and set the write concern to `safe`.", 
      "", 
      "**Note:** saves in pymongo will save the *whole* document and in MongoEngine if the document exists ", 
      "then any changes will be converted to updates."
     ]
    }, 
    {
     "cell_type": "markdown", 
     "source": [
      "### Raw data", 
      "", 
      "MongoEngine adds extra meta data to the documents stored in mongoDB so it can deal with polymorphism ", 
      "**`_types`** and knows what class to use for a document **`_cls`**.", 
      "", 
      "Below we use native pymongo to show the how the data is stored in mongoDB."
     ]
    }, 
    {
     "cell_type": "code", 
     "collapsed": false, 
     "input": [
      "Post._get_collection().find_one()"
     ], 
     "language": "python", 
     "outputs": [
      {
       "output_type": "pyout", 
       "prompt_number": 7, 
       "text": [
        "{u'_cls': u'Post',", 
        " u'_id': ObjectId('4ff19afabb69331041000000'),", 
        " u'_types': [u'Post'],", 
        " u'body': u'Welcome to Europython 2012!',", 
        " u'created_at': datetime.datetime(2012, 7, 2, 13, 58, 34, 385000),", 
        " u'slug': u'mongoengine-post',", 
        " u'title': u'mongoengine post'}"
       ]
      }
     ], 
     "prompt_number": 7
    }, 
    {
     "cell_type": "markdown", 
     "source": [
      "### Querying", 
      "", 
      "MongoEngine uses a similar declaritive syntax to Django.  To query you need to use the `Queryset Manager`", 
      "called `objects`.  You can explicitly call `filter`:"
     ]
    }, 
    {
     "cell_type": "code", 
     "collapsed": false, 
     "input": [
      "Post.objects.filter()"
     ], 
     "language": "python", 
     "outputs": [
      {
       "output_type": "pyout", 
       "prompt_number": 8, 
       "text": [
        "[<Post: mongoengine post>]"
       ]
      }
     ], 
     "prompt_number": 8
    }, 
    {
     "cell_type": "markdown", 
     "source": [
      "Or just apply the filter when calling `objects`:"
     ]
    }, 
    {
     "cell_type": "code", 
     "collapsed": false, 
     "input": [
      "Post.objects()"
     ], 
     "language": "python", 
     "outputs": [
      {
       "output_type": "pyout", 
       "prompt_number": 9, 
       "text": [
        "[<Post: mongoengine post>]"
       ]
      }
     ], 
     "prompt_number": 9
    }, 
    {
     "cell_type": "markdown", 
     "source": [
      "To filter you can pass keywords to limit the results returned."
     ]
    }, 
    {
     "cell_type": "code", 
     "collapsed": false, 
     "input": [
      "Post.objects(slug=\"mongoengine-post\")"
     ], 
     "language": "python", 
     "outputs": [
      {
       "output_type": "pyout", 
       "prompt_number": 10, 
       "text": [
        "[<Post: mongoengine post>]"
       ]
      }
     ], 
     "prompt_number": 10
    }, 
    {
     "cell_type": "markdown", 
     "source": [
      "### Skips and limits", 
      "", 
      "", 
      "Sometimes you need to paginate through your result set.  There are two ways to achive this with MongoEngine,", 
      "chaining `skip` and `limit` or by using a slice:"
     ]
    }, 
    {
     "cell_type": "code", 
     "collapsed": false, 
     "input": [
      "post = Post(title=\"second post\", ", 
      "            slug=\"second-post\", ", 
      "            body=\"Lets skip!\").save()", 
      "Post.objects().skip(1).limit(1)"
     ], 
     "language": "python", 
     "outputs": [
      {
       "output_type": "pyout", 
       "prompt_number": 11, 
       "text": [
        "[<Post: second post>]"
       ]
      }
     ], 
     "prompt_number": 11
    }, 
    {
     "cell_type": "code", 
     "collapsed": false, 
     "input": [
      "Post.objects()[1:2]"
     ], 
     "language": "python", 
     "outputs": [
      {
       "output_type": "pyout", 
       "prompt_number": 12, 
       "text": [
        "[<Post: second post>]"
       ]
      }
     ], 
     "prompt_number": 12
    }, 
    {
     "cell_type": "markdown", 
     "source": [
      "### Updating documents", 
      "", 
      "You can use `save` to update a document, but in pymongo that would overwrite the whole document and could", 
      "create a race condition.  As its better to be explicit use the `$set` atomic updates - these are expressed as", 
      "*operation\\_name*__*field\\_name* eg:"
     ]
    }, 
    {
     "cell_type": "code", 
     "collapsed": false, 
     "input": [
      "Post.objects(slug=\"mongoengine-post\").update(set__title=\"MongoEngine Post\")", 
      "Post.objects.first()"
     ], 
     "language": "python", 
     "outputs": [
      {
       "output_type": "pyout", 
       "prompt_number": 13, 
       "text": [
        "<Post: MongoEngine Post>"
       ]
      }
     ], 
     "prompt_number": 13
    }, 
    {
     "cell_type": "markdown", 
     "source": [
      "### Deleting documents", 
      "", 
      "To delete a document you can call the `delete` method on the document or a queryset:"
     ]
    }, 
    {
     "cell_type": "code", 
     "collapsed": true, 
     "input": [
      "# Delete a single document", 
      "post = Post.objects.first()", 
      "post.delete() ", 
      "", 
      "# Delete all matching documents", 
      "Post.objects().delete()", 
      "", 
      "# Drop the collection", 
      "Post.drop_collection()"
     ], 
     "language": "python", 
     "outputs": [], 
     "prompt_number": 14
    }, 
    {
     "cell_type": "markdown", 
     "source": [
      "# Exercises", 
      "", 
      "1. Create a Python module containing the tumblelog model. ", 
      "1. Create a couple of posts in your database", 
      "1. Using the `post.delete()` method, remove an instance of a post.", 
      "1. Using the `unset` update operator remove a slug from your first post.", 
      "   What happens when loading that post?  What happens if you try to `validate` it?", 
      "1. Using the `set` operator what happens if you try to set a value for a field that doesn't exist eg. tags?", 
      "1. Try to insert two posts with the same slug. What happens?"
     ]
    }
   ]
  }
 ]
}