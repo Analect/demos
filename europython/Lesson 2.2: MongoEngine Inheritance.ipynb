{
 "metadata": {
  "name": "Lesson 2.2: MongoEngine Inheritance"
 }, 
 "nbformat": 2, 
 "worksheets": [
  {
   "cells": [
    {
     "cell_type": "markdown", 
     "source": [
      "", 
      "# Inheritance", 
      "", 
      "From Blog to tumblelog"
     ]
    }
   ]
  }
 ]
}