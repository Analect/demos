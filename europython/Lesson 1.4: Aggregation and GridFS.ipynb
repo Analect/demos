{
 "metadata": {
  "name": "Lesson 1.4: Aggregation and GridFS"
 }, 
 "nbformat": 2, 
 "worksheets": [
  {
   "cells": [
    {
     "cell_type": "markdown", 
     "source": [
      "# Aggregation", 
      "", 
      "MongoDB provides a number of options for aggregating data. As usual we will start this lesson by inserting some example data."
     ]
    }, 
    {
     "cell_type": "code", 
     "collapsed": false, 
     "input": [
      "import pymongo", 
      "conn = pymongo.Connection()", 
      "db = conn.examples", 
      "db.things.insert({'x': 1, 'tags': ['dog', 'cat']})", 
      "db.things.insert({'x': 2, 'tags': ['cat']})", 
      "db.things.insert({'x': 3, 'tags': ['mouse', 'cat', 'dog']})", 
      "db.things.insert({'x': 4, 'tags': []})"
     ], 
     "language": "python", 
     "outputs": [
      {
       "output_type": "pyout", 
       "prompt_number": 1, 
       "text": [
        "ObjectId('4ff178f5bb69330deb000003')"
       ]
      }
     ], 
     "prompt_number": 1
    }, 
    {
     "cell_type": "markdown", 
     "source": [
      "## Simple Aggregation", 
      "", 
      "The simplest aggregation method is count()"
     ]
    }, 
    {
     "cell_type": "code", 
     "collapsed": false, 
     "input": [
      "db.things.count()"
     ], 
     "language": "python", 
     "outputs": [
      {
       "output_type": "pyout", 
       "prompt_number": 2, 
       "text": [
        "4"
       ]
      }
     ], 
     "prompt_number": 2
    }, 
    {
     "cell_type": "code", 
     "collapsed": false, 
     "input": [
      "db.things.find({'x': 2}).count()"
     ], 
     "language": "python", 
     "outputs": [
      {
       "output_type": "pyout", 
       "prompt_number": 3, 
       "text": [
        "1"
       ]
      }
     ], 
     "prompt_number": 3
    }, 
    {
     "cell_type": "markdown", 
     "source": [
      "## Map Reduce", 
      "", 
      "MongoDB executes javascript server side for more advanced aggregation", 
      "operations. Here's an example of using PyMongo's map_reduce method. The", 
      "javascript map and reduce functions are defined using instances of", 
      "bson.code.Code."
     ]
    }, 
    {
     "cell_type": "code", 
     "collapsed": false, 
     "input": [
      "from bson.code import Code", 
      "mymap = Code(\"function () {\"", 
      "             \"  this.tags.forEach(function(z) {\"", 
      "             \"    emit(z, 1);\"", 
      "             \"  });\"", 
      "             \"}\")", 
      "myreduce = Code(\"function (key, values) {\"", 
      "                \"  var total = 0;\"", 
      "                \"  for (var i = 0; i < values.length; i++) {\"", 
      "                \"    total += values[i];\"", 
      "                \"  }\"", 
      "                \"  return total;\"", 
      "                \"}\")", 
      "coll = db.things.map_reduce(mymap, myreduce, \"myresults\")", 
      "for doc in coll.find(): print doc"
     ], 
     "language": "python", 
     "outputs": [
      {
       "output_type": "stream", 
       "stream": "stdout", 
       "text": [
        "{u'_id': u'cat', u'value': 3.0}", 
        "{u'_id': u'dog', u'value': 2.0}", 
        "{u'_id': u'mouse', u'value': 1.0}"
       ]
      }
     ], 
     "prompt_number": 4
    }, 
    {
     "cell_type": "markdown", 
     "source": [
      "The output of map_reduce is stored in the collection \"myresults\". If we", 
      "didn't want to store the results we could use PyMongo's inline_map_reduce", 
      "method instead. The results would be returned in a list."
     ]
    }, 
    {
     "cell_type": "markdown", 
     "source": [
      "## Aggregation Framework (2.2)", 
      "", 
      "New in MongoDB 2.2 the aggregation framework provides a means to calculate aggregate values without having ", 
      "to use map-reduce.", 
      "", 
      "If you\u2019re familiar with SQL, the aggregation framework provides similar functionality to GROUP BY and ", 
      "related SQL operators as well as simple forms of \u201cself joins.\u201d Additionally, the aggregation framework ", 
      "provides projection capabilities to reshape the returned data. Using projections and aggregation, you can ", 
      "add computed fields, create new virtual sub-objects, and extract sub-fields into the top-level of results.", 
      "", 
      "See: http://docs.mongodb.org/manual/applications/aggregation/"
     ]
    }, 
    {
     "cell_type": "code", 
     "collapsed": false, 
     "input": [
      "db.command(\"aggregate\", \"things\", pipeline=[", 
      "    {\"$unwind\": \"$tags\"},", 
      "    {\"$group\": {\"_id\": \"$tags\", \"count\": {\"$sum\": 1}}},", 
      "    {\"$sort\": {\"count\": -1, \"_id\": -1}}", 
      "])"
     ], 
     "language": "python", 
     "outputs": [
      {
       "output_type": "pyout", 
       "prompt_number": 5, 
       "text": [
        "{u'ok': 1.0,", 
        " u'result': [{u'_id': u'cat', u'count': 3},", 
        "  {u'_id': u'dog', u'count': 2},", 
        "  {u'_id': u'mouse', u'count': 1},", 
        "  {u'_id': None, u'count': 1}]}"
       ]
      }
     ], 
     "prompt_number": 5
    }, 
    {
     "cell_type": "markdown", 
     "source": [
      "## Others", 
      "", 
      "PyMongo also provides a group() method for doing group operations with", 
      "javascript. Group will be covered in the exercises at the end of this lesson."
     ]
    }, 
    {
     "cell_type": "markdown", 
     "source": [
      "# GridFS", 
      "", 
      "A single MongoDB document is limited to 16MB in size. This is generally large", 
      "enough for textual data but what if you want to store large binary files in", 
      "MongoDB? GridFS is the answer. GridFS is a protocol implemented by PyMongo", 
      "to store binary data in document \"chunks\" on the server, bypassing the document", 
      "size limit.", 
      "", 
      "Here's a simple example inserting some text using the gridfs module."
     ]
    }, 
    {
     "cell_type": "code", 
     "collapsed": true, 
     "input": [
      "import gridfs", 
      "db = conn.gridfs_example", 
      "gfs = gridfs.GridFS(db)", 
      "a = gfs.put(\"Hello Europython!\")"
     ], 
     "language": "python", 
     "outputs": [], 
     "prompt_number": 6
    }, 
    {
     "cell_type": "markdown", 
     "source": [
      "Now lets read the data back. GridFS is implemented using file-like", 
      "objects. The get method returns a GridOut object that provides file", 
      "methods like read, readline, seek, tell, and close."
     ]
    }, 
    {
     "cell_type": "code", 
     "collapsed": false, 
     "input": [
      "f = gfs.get(a)", 
      "f.read()"
     ], 
     "language": "python", 
     "outputs": [
      {
       "output_type": "pyout", 
       "prompt_number": 7, 
       "text": [
        "'Hello Europython!'"
       ]
      }
     ], 
     "prompt_number": 7
    }, 
    {
     "cell_type": "markdown", 
     "source": [
      "Here's another example inserting the same file but including some metadata to be stored with it."
     ]
    }, 
    {
     "cell_type": "code", 
     "collapsed": false, 
     "input": [
      "b = gfs.put(gfs.get(a), filename=\"foo\", bar=\"baz\")", 
      "out = gfs.get(b)", 
      "out.read()"
     ], 
     "language": "python", 
     "outputs": [
      {
       "output_type": "pyout", 
       "prompt_number": 8, 
       "text": [
        "'Hello Europython!'"
       ]
      }
     ], 
     "prompt_number": 8
    }, 
    {
     "cell_type": "markdown", 
     "source": [
      "The file metadata can be accessed as attributes of the GridOut object."
     ]
    }, 
    {
     "cell_type": "code", 
     "collapsed": false, 
     "input": [
      "out.filename"
     ], 
     "language": "python", 
     "outputs": [
      {
       "output_type": "pyout", 
       "prompt_number": 9, 
       "text": [
        "u'foo'"
       ]
      }
     ], 
     "prompt_number": 9
    }, 
    {
     "cell_type": "code", 
     "collapsed": false, 
     "input": [
      "out.bar"
     ], 
     "language": "python", 
     "outputs": [
      {
       "output_type": "pyout", 
       "prompt_number": 10, 
       "text": [
        "u'baz'"
       ]
      }
     ], 
     "prompt_number": 10
    }, 
    {
     "cell_type": "markdown", 
     "source": [
      "An upload date is stored with each file in gridfs."
     ]
    }, 
    {
     "cell_type": "code", 
     "collapsed": false, 
     "input": [
      "out.upload_date"
     ], 
     "language": "python", 
     "outputs": [
      {
       "output_type": "pyout", 
       "prompt_number": 11, 
       "text": [
        "datetime.datetime(2012, 7, 2, 10, 33, 25, 910000)"
       ]
      }
     ], 
     "prompt_number": 11
    }, 
    {
     "cell_type": "markdown", 
     "source": [
      "# Exercises", 
      "", 
      "1. Run an aggregate command to pivot the data and group each tag with its corresponding x value eg:", 
      "<code>", 
      "{", 
      "    \"_id\" : \"cat\",", 
      "    \"x\" : [3, 2, 1]", 
      "}", 
      "</code>", 
      "2. Implement the group example from http://www.mongodb.org/display/DOCS/Aggregation#Aggregation-UsingGroupfromVariousLanguages", 
      "3. Store a file from your home directory in MongoDB using GridFS. Now read it back."
     ]
    }
   ]
  }
 ]
}